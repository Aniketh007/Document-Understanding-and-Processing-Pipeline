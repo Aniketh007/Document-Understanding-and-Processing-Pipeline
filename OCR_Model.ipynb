{
  "nbformat": 4,
  "nbformat_minor": 0,
  "metadata": {
    "colab": {
      "provenance": []
    },
    "kernelspec": {
      "name": "python3",
      "display_name": "Python 3"
    },
    "language_info": {
      "name": "python"
    }
  },
  "cells": [
    {
      "cell_type": "code",
      "execution_count": 51,
      "metadata": {
        "id": "LBUCpAaTG69X"
      },
      "outputs": [],
      "source": [
        "import pytesseract\n",
        "import fitz\n",
        "from PIL import Image\n",
        "import io\n",
        "import matplotlib.pyplot as plt\n",
        "import PyPDF2\n",
        "import re\n",
        "import nltk"
      ]
    },
    {
      "cell_type": "code",
      "source": [
        "!pip install PyPDF2"
      ],
      "metadata": {
        "colab": {
          "base_uri": "https://localhost:8080/"
        },
        "id": "KZSeOrQwHKcB",
        "outputId": "6d604e44-814e-4c42-dd53-4ecf83952cb2"
      },
      "execution_count": 11,
      "outputs": [
        {
          "output_type": "stream",
          "name": "stdout",
          "text": [
            "Collecting PyPDF2\n",
            "  Downloading pypdf2-3.0.1-py3-none-any.whl (232 kB)\n",
            "\u001b[2K     \u001b[90m━━━━━━━━━━━━━━━━━━━━━━━━━━━━━━━━━━━━━━━━\u001b[0m \u001b[32m232.6/232.6 kB\u001b[0m \u001b[31m1.9 MB/s\u001b[0m eta \u001b[36m0:00:00\u001b[0m\n",
            "\u001b[?25hInstalling collected packages: PyPDF2\n",
            "Successfully installed PyPDF2-3.0.1\n"
          ]
        }
      ]
    },
    {
      "cell_type": "code",
      "source": [
        "def extract_text(filepath):\n",
        "    txt = \"\"\n",
        "    with open(filepath, 'rb') as file:\n",
        "        pdf = PyPDF2.PdfReader(file)\n",
        "        nums = len(pdf.pages)\n",
        "        for num in range(nums):\n",
        "            page = pdf.pages[num]\n",
        "            txt += page.extract_text()\n",
        "        print(txt)\n",
        "    return txt"
      ],
      "metadata": {
        "id": "DuvHml3eHNXA"
      },
      "execution_count": 43,
      "outputs": []
    },
    {
      "cell_type": "code",
      "source": [
        "def pdf_to_images(filepath):\n",
        "    images = convert_from_path(filepath)\n",
        "    return images\n",
        "\n",
        "def ocr_from_images(images):\n",
        "    text = \"\"\n",
        "    for image in images:\n",
        "        text += pytesseract.image_to_string(image)\n",
        "    return text"
      ],
      "metadata": {
        "id": "4KCsAtJhID1R"
      },
      "execution_count": 44,
      "outputs": []
    },
    {
      "cell_type": "code",
      "source": [
        "path=\"/content/Aniketh ML.pdf\"\n",
        "pdf=extract_text(path)\n",
        "img=pdf_to_images(path)\n",
        "\n",
        "images=ocr_from_images(img)"
      ],
      "metadata": {
        "colab": {
          "base_uri": "https://localhost:8080/"
        },
        "id": "d263_hD5JtS3",
        "outputId": "db3bcdec-684d-45c1-80b4-888c9a1aaa55"
      },
      "execution_count": 90,
      "outputs": [
        {
          "output_type": "stream",
          "name": "stdout",
          "text": [
            "Aniketh Reddy Adireddy\n",
            "Machine Learning Engineer\n",
            "+91 8099099085 |anikethadireddy@gmail.com |linkedin.com/in/anikethreddy007/ |github.com/Aniketh007\n",
            "Summary\n",
            "An ambitious third year under graduate specializing in AIML with keen interest in Machine Learning and Deep\n",
            "Learning. Eager to apply advanced Machine Learning skills and innovation mindset to deliver impact solutions.\n",
            "Education\n",
            "Bachelor of Artificial Intelligence and Machine Learning 2021-2025\n",
            "Vardhaman College of Engineering, Hyderabad, India CGPA: 9.22/10\n",
            "Intermediate MPC 2019-2021\n",
            "Ramaiah IIT Circle, Hyderabad, India CGPA: 9.54/10\n",
            "Technical Skills\n",
            "Languages : Python, C++, Java, C, HTML5, CSS3, JavaScript\n",
            "Machine Learning Framworks : Tensorflow, Keras, Pytorch, Scikit-Learn\n",
            "Neural Network Techniques : Convolutional Neural Network(CNN), Recurrent Neural Network(RNN), Gated\n",
            "Recurrent Units(GRU), Long Short-Term Memory(LSTM)\n",
            "Knowledge in : LLMs, RAG, Text-to-Image Generation and many more\n",
            "Others : Flask, ReactJS, NodeJS, MongoDB, MySQL,Virtual Reality(VR) and Augumented Reality(AR)\n",
            "Experience\n",
            "Project Intern Feb. 2024 – Mar. 2024\n",
            "DRDO- Defence Research and Development Organization Hyderabad, India\n",
            "•Created a web app using MatLab Web App Server and I integrated it with Kibana Dashboard.\n",
            "•When the user selects a folder from Kibana, it is redirected to my web app. It list all the datasets in that folder.\n",
            "•The user selects the dataset they want to view. The web app provides drop downs listing the features of the dataset\n",
            "and provide a plot of the feature data.\n",
            "•The web app helps users to visualize the dataset and check how one feature is dependent on another feature.\n",
            "Projects\n",
            "Authentify- The DeepFake Sentry April 2024 – Present\n",
            "•Working on robust deepfake detection model utilizing state-of-the-art Deep Learning techniques and frameworks\n",
            "•A multilayered deepfake detection model employing an array of detection methods\n",
            "•Technologies used: Deep Learning Algorithms- CNN, LSTM,.., Python libraries like Tensorflow, Pytorch,\n",
            "Scikit-Learn\n",
            "Text Generator May 2024 – Present\n",
            "•Working on making a text generator that can predict the next word based on the previous word.\n",
            "•Technologies used: Deep Learning Algorithms- RNN(LSTM), GPT-2 from Hugging Face, Tensorflow.\n",
            "An Ensemble Approach for Network and Server Intrusion Jan 2024 – March 2024\n",
            "•An innovative Intrusion Detection System(IDS) for enhancing network and server security and preventing cyber\n",
            "threats.\n",
            "•Paper Accepted(Publication Pending)\n",
            "•Technologies used: Deep Learning Algorithms- CNN and GRU, Python libraries like Tensorflow, Scikit-Learn\n",
            "Certifications\n",
            "Machine Learning Specialization - DeepLearning AI\n",
            "Issued April 2024\n",
            "Artificial Intelligence - Rinex Technologies\n",
            "Issued Aug 2022\n",
            "Advanced Python - SIIT(Sree Institute of InfoTech)\n",
            "Issued May 2022\n"
          ]
        }
      ]
    },
    {
      "cell_type": "code",
      "source": [
        "print(len(pdf))"
      ],
      "metadata": {
        "colab": {
          "base_uri": "https://localhost:8080/"
        },
        "id": "O9I-BXbSJ8Lf",
        "outputId": "00d6b40a-7509-403d-c285-904f2b78a3dd"
      },
      "execution_count": 96,
      "outputs": [
        {
          "output_type": "stream",
          "name": "stdout",
          "text": [
            "2782\n"
          ]
        }
      ]
    },
    {
      "cell_type": "code",
      "source": [
        "txt=re.sub(r'\\s',' ',images)\n",
        "print(txt)\n",
        "txt=re.sub(r'[^\\x00-\\x7F]+',' ',txt)"
      ],
      "metadata": {
        "colab": {
          "base_uri": "https://localhost:8080/"
        },
        "id": "qdECcwtrxAnl",
        "outputId": "ba3fa5b0-1d46-4937-dbfb-acecbf6dc6d1"
      },
      "execution_count": 105,
      "outputs": [
        {
          "output_type": "stream",
          "name": "stdout",
          "text": [
            "Aniketh Reddy Adireddy Machine Learning Engineer +91 8099099085 | anikethadireddy@gmail.com | linkedin.com/in/anikethreddy007/ | github.com/Aniketh007   SUMMARY   An ambitious third year under graduate specializing in AIML with keen interest in Machine Learning and Deep Learning. Eager to apply advanced Machine Learning skills and innovation mindset to deliver impact solutions.   EDUCATION Bachelor of Artificial Intelligence and Machine Learning 2021-2025 Vardhaman College of Engineering, Hyderabad, India CGPA: 9.22/10 Intermediate MPC 2019-2021 Ramaiah IIT Circle, Hyderabad, India CGPA: 9.54/10 TECHNICAL SKILLS Languages: Python, C++, Java, C, HTML5, CS83, JavaScript Machine Learning Framworks: Tensorflow, Keras, Pytorch, Scikit-Learn Neural Network Techniques: Convolutional Neural Network(CNN), Recurrent Neural Network(RNN), Gated Recurrent Units(GRU), Long Short-Term Memory(LSTM) Knowledge in: LLMs, RAG, Text-to-Image Generation and many more Others: Flask, ReactJS, NodeJS, MongoDB, MySQL, Virtual Reality(VR) and Augumented Reality(AR)     EXPERIENCE Project Intern Feb. 2024 — Mar. 2024 DRDO- Defence Research and Development Organization Hyderabad, India ¢ Created a web app using MatLab Web App Server and I integrated it with Kibana Dashboard. ¢ When the user selects a folder from Kibana, it is redirected to my web app. It list all the datasets in that folder. ¢ The user selects the dataset they want to view. The web app provides drop downs listing the features of the dataset and provide a plot of the feature data. « The web app helps users to visualize the dataset and check how one feature is dependent on another feature. PROJECTS   Authentify- The DeepFake Sentry April 2024 — Present ¢ Working on robust deepfake detection model utilizing state-of-the-art Deep Learning techniques and frameworks « A multilayered deepfake detection model employing an array of detection methods « Technologies used: Deep Learning Algorithms- CNN, LSTM,.., Python libraries like Tensorflow, Pytorch, Scikit-Learn Text Generator May 2024 — Present ¢ Working on making a text generator that can predict the next word based on the previous word. ¢ Technologies used: Deep Learning Algorithms- RNN(LSTM), GPT-2 from Hugging Face, Tensorflow. An Ensemble Approach for Network and Server Intrusion Jan 2024 — March 2024 ¢ An innovative Intrusion Detection System(IDS) for enhancing network and server security and preventing cyber threats. « Paper Accepted(Publication Pending) ¢ Technologies used: Deep Learning Algorithms- CNN and GRU, Python libraries like Tensorflow, Scikit-Learn CERTIFICATIONS   Machine Learning Specialization - DeepLearning AI Issued April 2024 Artificial Intelligence - Rinex Technologies Issued Aug 2022 Advanced Python - SIIT(Sree Institute of InfoTech) Issued May 2022  \n"
          ]
        }
      ]
    },
    {
      "cell_type": "code",
      "source": [
        "images=images.replace('\\n\\n','\\n')\n",
        "print(images)"
      ],
      "metadata": {
        "colab": {
          "base_uri": "https://localhost:8080/"
        },
        "id": "RLHfa4tJKAkr",
        "outputId": "b179401e-3879-437e-eefb-feaf79dd3ed5"
      },
      "execution_count": 107,
      "outputs": [
        {
          "output_type": "stream",
          "name": "stdout",
          "text": [
            "Aniketh Reddy Adireddy\n",
            "Machine Learning Engineer\n",
            "+91 8099099085 | anikethadireddy@gmail.com | linkedin.com/in/anikethreddy007/ | github.com/Aniketh007\n",
            " \n",
            "SUMMARY\n",
            " \n",
            "An ambitious third year under graduate specializing in AIML with keen interest in Machine Learning and Deep\n",
            "Learning. Eager to apply advanced Machine Learning skills and innovation mindset to deliver impact solutions.\n",
            " \n",
            "EDUCATION\n",
            "Bachelor of Artificial Intelligence and Machine Learning 2021-2025\n",
            "Vardhaman College of Engineering, Hyderabad, India CGPA: 9.22/10\n",
            "Intermediate MPC 2019-2021\n",
            "Ramaiah IIT Circle, Hyderabad, India CGPA: 9.54/10\n",
            "TECHNICAL SKILLS\n",
            "Languages: Python, C++, Java, C, HTML5, CS83, JavaScript\n",
            "Machine Learning Framworks: Tensorflow, Keras, Pytorch, Scikit-Learn\n",
            "Neural Network Techniques: Convolutional Neural Network(CNN), Recurrent Neural Network(RNN), Gated\n",
            "Recurrent Units(GRU), Long Short-Term Memory(LSTM)\n",
            "Knowledge in: LLMs, RAG, Text-to-Image Generation and many more\n",
            "Others: Flask, ReactJS, NodeJS, MongoDB, MySQL, Virtual Reality(VR) and Augumented Reality(AR)\n",
            " \n",
            " \n",
            "EXPERIENCE\n",
            "Project Intern Feb. 2024 — Mar. 2024\n",
            "DRDO- Defence Research and Development Organization Hyderabad, India\n",
            "¢ Created a web app using MatLab Web App Server and I integrated it with Kibana Dashboard.\n",
            "¢ When the user selects a folder from Kibana, it is redirected to my web app. It list all the datasets in that folder.\n",
            "¢ The user selects the dataset they want to view. The web app provides drop downs listing the features of the dataset\n",
            "and provide a plot of the feature data.\n",
            "« The web app helps users to visualize the dataset and check how one feature is dependent on another feature.\n",
            "PROJECTS\n",
            " \n",
            "Authentify- The DeepFake Sentry April 2024 — Present\n",
            "¢ Working on robust deepfake detection model utilizing state-of-the-art Deep Learning techniques and frameworks\n",
            "« A multilayered deepfake detection model employing an array of detection methods\n",
            "« Technologies used: Deep Learning Algorithms- CNN, LSTM,.., Python libraries like Tensorflow, Pytorch,\n",
            "Scikit-Learn\n",
            "Text Generator May 2024 — Present\n",
            "¢ Working on making a text generator that can predict the next word based on the previous word.\n",
            "¢ Technologies used: Deep Learning Algorithms- RNN(LSTM), GPT-2 from Hugging Face, Tensorflow.\n",
            "An Ensemble Approach for Network and Server Intrusion Jan 2024 — March 2024\n",
            "¢ An innovative Intrusion Detection System(IDS) for enhancing network and server security and preventing cyber\n",
            "threats.\n",
            "« Paper Accepted(Publication Pending)\n",
            "¢ Technologies used: Deep Learning Algorithms- CNN and GRU, Python libraries like Tensorflow, Scikit-Learn\n",
            "CERTIFICATIONS\n",
            " \n",
            "Machine Learning Specialization - DeepLearning AI\n",
            "Issued April 2024\n",
            "Artificial Intelligence - Rinex Technologies\n",
            "Issued Aug 2022\n",
            "Advanced Python - SIIT(Sree Institute of InfoTech)\n",
            "Issued May 2022\n",
            "\f\n"
          ]
        }
      ]
    },
    {
      "cell_type": "code",
      "source": [
        "if(len(pdf)>len(images)):\n",
        "  data=pdf\n",
        "else:\n",
        "  data=images"
      ],
      "metadata": {
        "id": "NXKivXTjwXJG"
      },
      "execution_count": 127,
      "outputs": []
    },
    {
      "cell_type": "code",
      "source": [
        "data=re.sub(r'[^\\w\\s\\n]+', '',data)\n",
        "print(data)"
      ],
      "metadata": {
        "colab": {
          "base_uri": "https://localhost:8080/"
        },
        "id": "qzgP5AaSwd9V",
        "outputId": "a23cec3d-a63b-40ba-8a10-b1d8f45d0ae3"
      },
      "execution_count": 128,
      "outputs": [
        {
          "output_type": "stream",
          "name": "stdout",
          "text": [
            "Aniketh Reddy Adireddy\n",
            "Machine Learning Engineer\n",
            "91 8099099085  anikethadireddygmailcom  linkedincominanikethreddy007  githubcomAniketh007\n",
            " \n",
            "SUMMARY\n",
            " \n",
            "An ambitious third year under graduate specializing in AIML with keen interest in Machine Learning and Deep\n",
            "Learning Eager to apply advanced Machine Learning skills and innovation mindset to deliver impact solutions\n",
            " \n",
            "EDUCATION\n",
            "Bachelor of Artificial Intelligence and Machine Learning 20212025\n",
            "Vardhaman College of Engineering Hyderabad India CGPA 92210\n",
            "Intermediate MPC 20192021\n",
            "Ramaiah IIT Circle Hyderabad India CGPA 95410\n",
            "TECHNICAL SKILLS\n",
            "Languages Python C Java C HTML5 CS83 JavaScript\n",
            "Machine Learning Framworks Tensorflow Keras Pytorch ScikitLearn\n",
            "Neural Network Techniques Convolutional Neural NetworkCNN Recurrent Neural NetworkRNN Gated\n",
            "Recurrent UnitsGRU Long ShortTerm MemoryLSTM\n",
            "Knowledge in LLMs RAG TexttoImage Generation and many more\n",
            "Others Flask ReactJS NodeJS MongoDB MySQL Virtual RealityVR and Augumented RealityAR\n",
            " \n",
            " \n",
            "EXPERIENCE\n",
            "Project Intern Feb 2024  Mar 2024\n",
            "DRDO Defence Research and Development Organization Hyderabad India\n",
            " Created a web app using MatLab Web App Server and I integrated it with Kibana Dashboard\n",
            " When the user selects a folder from Kibana it is redirected to my web app It list all the datasets in that folder\n",
            " The user selects the dataset they want to view The web app provides drop downs listing the features of the dataset\n",
            "and provide a plot of the feature data\n",
            " The web app helps users to visualize the dataset and check how one feature is dependent on another feature\n",
            "PROJECTS\n",
            " \n",
            "Authentify The DeepFake Sentry April 2024  Present\n",
            " Working on robust deepfake detection model utilizing stateoftheart Deep Learning techniques and frameworks\n",
            " A multilayered deepfake detection model employing an array of detection methods\n",
            " Technologies used Deep Learning Algorithms CNN LSTM Python libraries like Tensorflow Pytorch\n",
            "ScikitLearn\n",
            "Text Generator May 2024  Present\n",
            " Working on making a text generator that can predict the next word based on the previous word\n",
            " Technologies used Deep Learning Algorithms RNNLSTM GPT2 from Hugging Face Tensorflow\n",
            "An Ensemble Approach for Network and Server Intrusion Jan 2024  March 2024\n",
            " An innovative Intrusion Detection SystemIDS for enhancing network and server security and preventing cyber\n",
            "threats\n",
            " Paper AcceptedPublication Pending\n",
            " Technologies used Deep Learning Algorithms CNN and GRU Python libraries like Tensorflow ScikitLearn\n",
            "CERTIFICATIONS\n",
            " \n",
            "Machine Learning Specialization  DeepLearning AI\n",
            "Issued April 2024\n",
            "Artificial Intelligence  Rinex Technologies\n",
            "Issued Aug 2022\n",
            "Advanced Python  SIITSree Institute of InfoTech\n",
            "Issued May 2022\n",
            "\f\n"
          ]
        }
      ]
    },
    {
      "cell_type": "code",
      "source": [
        "sentence=nltk.sent_tokenize(data)\n",
        "print(sentence)"
      ],
      "metadata": {
        "colab": {
          "base_uri": "https://localhost:8080/"
        },
        "id": "PPQDaVptk2om",
        "outputId": "08f61fe3-7e4b-4cc9-f2b4-f9d73e58a54e"
      },
      "execution_count": 129,
      "outputs": [
        {
          "output_type": "stream",
          "name": "stdout",
          "text": [
            "['Aniketh Reddy Adireddy\\nMachine Learning Engineer\\n91 8099099085  anikethadireddygmailcom  linkedincominanikethreddy007  githubcomAniketh007\\n \\nSUMMARY\\n \\nAn ambitious third year under graduate specializing in AIML with keen interest in Machine Learning and Deep\\nLearning Eager to apply advanced Machine Learning skills and innovation mindset to deliver impact solutions\\n \\nEDUCATION\\nBachelor of Artificial Intelligence and Machine Learning 20212025\\nVardhaman College of Engineering Hyderabad India CGPA 92210\\nIntermediate MPC 20192021\\nRamaiah IIT Circle Hyderabad India CGPA 95410\\nTECHNICAL SKILLS\\nLanguages Python C Java C HTML5 CS83 JavaScript\\nMachine Learning Framworks Tensorflow Keras Pytorch ScikitLearn\\nNeural Network Techniques Convolutional Neural NetworkCNN Recurrent Neural NetworkRNN Gated\\nRecurrent UnitsGRU Long ShortTerm MemoryLSTM\\nKnowledge in LLMs RAG TexttoImage Generation and many more\\nOthers Flask ReactJS NodeJS MongoDB MySQL Virtual RealityVR and Augumented RealityAR\\n \\n \\nEXPERIENCE\\nProject Intern Feb 2024  Mar 2024\\nDRDO Defence Research and Development Organization Hyderabad India\\n Created a web app using MatLab Web App Server and I integrated it with Kibana Dashboard\\n When the user selects a folder from Kibana it is redirected to my web app It list all the datasets in that folder\\n The user selects the dataset they want to view The web app provides drop downs listing the features of the dataset\\nand provide a plot of the feature data\\n The web app helps users to visualize the dataset and check how one feature is dependent on another feature\\nPROJECTS\\n \\nAuthentify The DeepFake Sentry April 2024  Present\\n Working on robust deepfake detection model utilizing stateoftheart Deep Learning techniques and frameworks\\n A multilayered deepfake detection model employing an array of detection methods\\n Technologies used Deep Learning Algorithms CNN LSTM Python libraries like Tensorflow Pytorch\\nScikitLearn\\nText Generator May 2024  Present\\n Working on making a text generator that can predict the next word based on the previous word\\n Technologies used Deep Learning Algorithms RNNLSTM GPT2 from Hugging Face Tensorflow\\nAn Ensemble Approach for Network and Server Intrusion Jan 2024  March 2024\\n An innovative Intrusion Detection SystemIDS for enhancing network and server security and preventing cyber\\nthreats\\n Paper AcceptedPublication Pending\\n Technologies used Deep Learning Algorithms CNN and GRU Python libraries like Tensorflow ScikitLearn\\nCERTIFICATIONS\\n \\nMachine Learning Specialization  DeepLearning AI\\nIssued April 2024\\nArtificial Intelligence  Rinex Technologies\\nIssued Aug 2022\\nAdvanced Python  SIITSree Institute of InfoTech\\nIssued May 2022']\n"
          ]
        }
      ]
    },
    {
      "cell_type": "code",
      "source": [
        "tokenize_word=[nltk.word_tokenize(sent) for sent in sentence]\n",
        "for i in tokenize_word:\n",
        "  print(i)"
      ],
      "metadata": {
        "colab": {
          "base_uri": "https://localhost:8080/"
        },
        "id": "s8LzoXYYyy49",
        "outputId": "b7a0a3bc-5fc5-4240-9f0d-57070ddf8a8a"
      },
      "execution_count": 130,
      "outputs": [
        {
          "output_type": "stream",
          "name": "stdout",
          "text": [
            "['Aniketh', 'Reddy', 'Adireddy', 'Machine', 'Learning', 'Engineer', '91', '8099099085', 'anikethadireddygmailcom', 'linkedincominanikethreddy007', 'githubcomAniketh007', 'SUMMARY', 'An', 'ambitious', 'third', 'year', 'under', 'graduate', 'specializing', 'in', 'AIML', 'with', 'keen', 'interest', 'in', 'Machine', 'Learning', 'and', 'Deep', 'Learning', 'Eager', 'to', 'apply', 'advanced', 'Machine', 'Learning', 'skills', 'and', 'innovation', 'mindset', 'to', 'deliver', 'impact', 'solutions', 'EDUCATION', 'Bachelor', 'of', 'Artificial', 'Intelligence', 'and', 'Machine', 'Learning', '20212025', 'Vardhaman', 'College', 'of', 'Engineering', 'Hyderabad', 'India', 'CGPA', '92210', 'Intermediate', 'MPC', '20192021', 'Ramaiah', 'IIT', 'Circle', 'Hyderabad', 'India', 'CGPA', '95410', 'TECHNICAL', 'SKILLS', 'Languages', 'Python', 'C', 'Java', 'C', 'HTML5', 'CS83', 'JavaScript', 'Machine', 'Learning', 'Framworks', 'Tensorflow', 'Keras', 'Pytorch', 'ScikitLearn', 'Neural', 'Network', 'Techniques', 'Convolutional', 'Neural', 'NetworkCNN', 'Recurrent', 'Neural', 'NetworkRNN', 'Gated', 'Recurrent', 'UnitsGRU', 'Long', 'ShortTerm', 'MemoryLSTM', 'Knowledge', 'in', 'LLMs', 'RAG', 'TexttoImage', 'Generation', 'and', 'many', 'more', 'Others', 'Flask', 'ReactJS', 'NodeJS', 'MongoDB', 'MySQL', 'Virtual', 'RealityVR', 'and', 'Augumented', 'RealityAR', 'EXPERIENCE', 'Project', 'Intern', 'Feb', '2024', 'Mar', '2024', 'DRDO', 'Defence', 'Research', 'and', 'Development', 'Organization', 'Hyderabad', 'India', 'Created', 'a', 'web', 'app', 'using', 'MatLab', 'Web', 'App', 'Server', 'and', 'I', 'integrated', 'it', 'with', 'Kibana', 'Dashboard', 'When', 'the', 'user', 'selects', 'a', 'folder', 'from', 'Kibana', 'it', 'is', 'redirected', 'to', 'my', 'web', 'app', 'It', 'list', 'all', 'the', 'datasets', 'in', 'that', 'folder', 'The', 'user', 'selects', 'the', 'dataset', 'they', 'want', 'to', 'view', 'The', 'web', 'app', 'provides', 'drop', 'downs', 'listing', 'the', 'features', 'of', 'the', 'dataset', 'and', 'provide', 'a', 'plot', 'of', 'the', 'feature', 'data', 'The', 'web', 'app', 'helps', 'users', 'to', 'visualize', 'the', 'dataset', 'and', 'check', 'how', 'one', 'feature', 'is', 'dependent', 'on', 'another', 'feature', 'PROJECTS', 'Authentify', 'The', 'DeepFake', 'Sentry', 'April', '2024', 'Present', 'Working', 'on', 'robust', 'deepfake', 'detection', 'model', 'utilizing', 'stateoftheart', 'Deep', 'Learning', 'techniques', 'and', 'frameworks', 'A', 'multilayered', 'deepfake', 'detection', 'model', 'employing', 'an', 'array', 'of', 'detection', 'methods', 'Technologies', 'used', 'Deep', 'Learning', 'Algorithms', 'CNN', 'LSTM', 'Python', 'libraries', 'like', 'Tensorflow', 'Pytorch', 'ScikitLearn', 'Text', 'Generator', 'May', '2024', 'Present', 'Working', 'on', 'making', 'a', 'text', 'generator', 'that', 'can', 'predict', 'the', 'next', 'word', 'based', 'on', 'the', 'previous', 'word', 'Technologies', 'used', 'Deep', 'Learning', 'Algorithms', 'RNNLSTM', 'GPT2', 'from', 'Hugging', 'Face', 'Tensorflow', 'An', 'Ensemble', 'Approach', 'for', 'Network', 'and', 'Server', 'Intrusion', 'Jan', '2024', 'March', '2024', 'An', 'innovative', 'Intrusion', 'Detection', 'SystemIDS', 'for', 'enhancing', 'network', 'and', 'server', 'security', 'and', 'preventing', 'cyber', 'threats', 'Paper', 'AcceptedPublication', 'Pending', 'Technologies', 'used', 'Deep', 'Learning', 'Algorithms', 'CNN', 'and', 'GRU', 'Python', 'libraries', 'like', 'Tensorflow', 'ScikitLearn', 'CERTIFICATIONS', 'Machine', 'Learning', 'Specialization', 'DeepLearning', 'AI', 'Issued', 'April', '2024', 'Artificial', 'Intelligence', 'Rinex', 'Technologies', 'Issued', 'Aug', '2022', 'Advanced', 'Python', 'SIITSree', 'Institute', 'of', 'InfoTech', 'Issued', 'May', '2022']\n"
          ]
        }
      ]
    }
  ]
}